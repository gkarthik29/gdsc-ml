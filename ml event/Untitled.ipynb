{
 "cells": [
  {
   "cell_type": "code",
   "execution_count": 2,
   "id": "2d6d234a",
   "metadata": {},
   "outputs": [
    {
     "data": {
      "text/html": [
       "<div>\n",
       "<style scoped>\n",
       "    .dataframe tbody tr th:only-of-type {\n",
       "        vertical-align: middle;\n",
       "    }\n",
       "\n",
       "    .dataframe tbody tr th {\n",
       "        vertical-align: top;\n",
       "    }\n",
       "\n",
       "    .dataframe thead th {\n",
       "        text-align: right;\n",
       "    }\n",
       "</style>\n",
       "<table border=\"1\" class=\"dataframe\">\n",
       "  <thead>\n",
       "    <tr style=\"text-align: right;\">\n",
       "      <th></th>\n",
       "      <th>Unnamed: 0</th>\n",
       "      <th>car_name</th>\n",
       "      <th>car_prices_in_rupee</th>\n",
       "      <th>kms_driven</th>\n",
       "      <th>fuel_type</th>\n",
       "      <th>transmission</th>\n",
       "      <th>ownership</th>\n",
       "      <th>manufacture</th>\n",
       "      <th>engine</th>\n",
       "      <th>Seats</th>\n",
       "    </tr>\n",
       "  </thead>\n",
       "  <tbody>\n",
       "    <tr>\n",
       "      <th>0</th>\n",
       "      <td>0</td>\n",
       "      <td>Jeep Compass 2.0 Longitude Option BSIV</td>\n",
       "      <td>10.03 Lakh</td>\n",
       "      <td>86,226 kms</td>\n",
       "      <td>Diesel</td>\n",
       "      <td>Manual</td>\n",
       "      <td>1st Owner</td>\n",
       "      <td>2017.0</td>\n",
       "      <td>1956 cc</td>\n",
       "      <td>5 Seats</td>\n",
       "    </tr>\n",
       "    <tr>\n",
       "      <th>1</th>\n",
       "      <td>1</td>\n",
       "      <td>Renault Duster RXZ Turbo CVT</td>\n",
       "      <td>12.83 Lakh</td>\n",
       "      <td>13,248 kms</td>\n",
       "      <td>Petrol</td>\n",
       "      <td>Automatic</td>\n",
       "      <td>1st Owner</td>\n",
       "      <td>2021.0</td>\n",
       "      <td>1330 cc</td>\n",
       "      <td>5 Seats</td>\n",
       "    </tr>\n",
       "    <tr>\n",
       "      <th>2</th>\n",
       "      <td>2</td>\n",
       "      <td>Toyota Camry 2.5 G</td>\n",
       "      <td>16.40 Lakh</td>\n",
       "      <td>60,343 kms</td>\n",
       "      <td>Petrol</td>\n",
       "      <td>Automatic</td>\n",
       "      <td>1st Owner</td>\n",
       "      <td>2016.0</td>\n",
       "      <td>2494 cc</td>\n",
       "      <td>5 Seats</td>\n",
       "    </tr>\n",
       "    <tr>\n",
       "      <th>3</th>\n",
       "      <td>3</td>\n",
       "      <td>Honda Jazz VX CVT</td>\n",
       "      <td>7.77 Lakh</td>\n",
       "      <td>26,696 kms</td>\n",
       "      <td>Petrol</td>\n",
       "      <td>Automatic</td>\n",
       "      <td>1st Owner</td>\n",
       "      <td>2018.0</td>\n",
       "      <td>1199 cc</td>\n",
       "      <td>5 Seats</td>\n",
       "    </tr>\n",
       "    <tr>\n",
       "      <th>4</th>\n",
       "      <td>4</td>\n",
       "      <td>Volkswagen Polo 1.2 MPI Highline</td>\n",
       "      <td>5.15 Lakh</td>\n",
       "      <td>69,414 kms</td>\n",
       "      <td>Petrol</td>\n",
       "      <td>Manual</td>\n",
       "      <td>1st Owner</td>\n",
       "      <td>2016.0</td>\n",
       "      <td>1199 cc</td>\n",
       "      <td>5 Seats</td>\n",
       "    </tr>\n",
       "    <tr>\n",
       "      <th>...</th>\n",
       "      <td>...</td>\n",
       "      <td>...</td>\n",
       "      <td>...</td>\n",
       "      <td>...</td>\n",
       "      <td>...</td>\n",
       "      <td>...</td>\n",
       "      <td>...</td>\n",
       "      <td>...</td>\n",
       "      <td>...</td>\n",
       "      <td>...</td>\n",
       "    </tr>\n",
       "    <tr>\n",
       "      <th>5507</th>\n",
       "      <td>5507</td>\n",
       "      <td>BMW X1 sDrive 20d xLine</td>\n",
       "      <td>28.90 Lakh</td>\n",
       "      <td>45,000 kms</td>\n",
       "      <td>Diesel</td>\n",
       "      <td>Automatic</td>\n",
       "      <td>1st Owner</td>\n",
       "      <td>2018.0</td>\n",
       "      <td>2995 cc</td>\n",
       "      <td>7 Seats</td>\n",
       "    </tr>\n",
       "    <tr>\n",
       "      <th>5508</th>\n",
       "      <td>5508</td>\n",
       "      <td>BMW M Series M4 Coupe</td>\n",
       "      <td>64.90 Lakh</td>\n",
       "      <td>29,000 kms</td>\n",
       "      <td>Petrol</td>\n",
       "      <td>Automatic</td>\n",
       "      <td>2nd Owner</td>\n",
       "      <td>2015.0</td>\n",
       "      <td>1968 cc</td>\n",
       "      <td>5 Seats</td>\n",
       "    </tr>\n",
       "    <tr>\n",
       "      <th>5509</th>\n",
       "      <td>5509</td>\n",
       "      <td>Jaguar XF 2.2 Litre Luxury</td>\n",
       "      <td>13.75 Lakh</td>\n",
       "      <td>90,000 kms</td>\n",
       "      <td>Diesel</td>\n",
       "      <td>Automatic</td>\n",
       "      <td>2nd Owner</td>\n",
       "      <td>2013.0</td>\n",
       "      <td>2755 cc</td>\n",
       "      <td>5 Seats</td>\n",
       "    </tr>\n",
       "    <tr>\n",
       "      <th>5510</th>\n",
       "      <td>5510</td>\n",
       "      <td>BMW 7 Series 730Ld</td>\n",
       "      <td>29.90 Lakh</td>\n",
       "      <td>79,000 kms</td>\n",
       "      <td>Diesel</td>\n",
       "      <td>Automatic</td>\n",
       "      <td>3rd Owner</td>\n",
       "      <td>2015.0</td>\n",
       "      <td>2967 cc</td>\n",
       "      <td>6 Seats</td>\n",
       "    </tr>\n",
       "    <tr>\n",
       "      <th>5511</th>\n",
       "      <td>5511</td>\n",
       "      <td>BMW 5 Series 520d M Sport</td>\n",
       "      <td>31.90 Lakh</td>\n",
       "      <td>42,000 kms</td>\n",
       "      <td>Diesel</td>\n",
       "      <td>Automatic</td>\n",
       "      <td>2nd Owner</td>\n",
       "      <td>2017.0</td>\n",
       "      <td>1991 cc</td>\n",
       "      <td>5 Seats</td>\n",
       "    </tr>\n",
       "  </tbody>\n",
       "</table>\n",
       "<p>5512 rows × 10 columns</p>\n",
       "</div>"
      ],
      "text/plain": [
       "      Unnamed: 0                                car_name car_prices_in_rupee  \\\n",
       "0              0  Jeep Compass 2.0 Longitude Option BSIV          10.03 Lakh   \n",
       "1              1            Renault Duster RXZ Turbo CVT          12.83 Lakh   \n",
       "2              2                      Toyota Camry 2.5 G          16.40 Lakh   \n",
       "3              3                       Honda Jazz VX CVT           7.77 Lakh   \n",
       "4              4        Volkswagen Polo 1.2 MPI Highline           5.15 Lakh   \n",
       "...          ...                                     ...                 ...   \n",
       "5507        5507                 BMW X1 sDrive 20d xLine          28.90 Lakh   \n",
       "5508        5508                   BMW M Series M4 Coupe          64.90 Lakh   \n",
       "5509        5509              Jaguar XF 2.2 Litre Luxury          13.75 Lakh   \n",
       "5510        5510                      BMW 7 Series 730Ld          29.90 Lakh   \n",
       "5511        5511               BMW 5 Series 520d M Sport          31.90 Lakh   \n",
       "\n",
       "      kms_driven fuel_type transmission  ownership  manufacture   engine  \\\n",
       "0     86,226 kms    Diesel       Manual  1st Owner       2017.0  1956 cc   \n",
       "1     13,248 kms    Petrol    Automatic  1st Owner       2021.0  1330 cc   \n",
       "2     60,343 kms    Petrol    Automatic  1st Owner       2016.0  2494 cc   \n",
       "3     26,696 kms    Petrol    Automatic  1st Owner       2018.0  1199 cc   \n",
       "4     69,414 kms    Petrol       Manual  1st Owner       2016.0  1199 cc   \n",
       "...          ...       ...          ...        ...          ...      ...   \n",
       "5507  45,000 kms    Diesel    Automatic  1st Owner       2018.0  2995 cc   \n",
       "5508  29,000 kms    Petrol    Automatic  2nd Owner       2015.0  1968 cc   \n",
       "5509  90,000 kms    Diesel    Automatic  2nd Owner       2013.0  2755 cc   \n",
       "5510  79,000 kms    Diesel    Automatic  3rd Owner       2015.0  2967 cc   \n",
       "5511  42,000 kms    Diesel    Automatic  2nd Owner       2017.0  1991 cc   \n",
       "\n",
       "        Seats  \n",
       "0     5 Seats  \n",
       "1     5 Seats  \n",
       "2     5 Seats  \n",
       "3     5 Seats  \n",
       "4     5 Seats  \n",
       "...       ...  \n",
       "5507  7 Seats  \n",
       "5508  5 Seats  \n",
       "5509  5 Seats  \n",
       "5510  6 Seats  \n",
       "5511  5 Seats  \n",
       "\n",
       "[5512 rows x 10 columns]"
      ]
     },
     "execution_count": 2,
     "metadata": {},
     "output_type": "execute_result"
    }
   ],
   "source": [
    "import pandas as pd\n",
    "import numpy as np\n",
    "df=pd.read_csv('car_price.csv')\n",
    "df"
   ]
  },
  {
   "cell_type": "code",
   "execution_count": 3,
   "id": "81e5b90d",
   "metadata": {},
   "outputs": [
    {
     "data": {
      "text/html": [
       "<div>\n",
       "<style scoped>\n",
       "    .dataframe tbody tr th:only-of-type {\n",
       "        vertical-align: middle;\n",
       "    }\n",
       "\n",
       "    .dataframe tbody tr th {\n",
       "        vertical-align: top;\n",
       "    }\n",
       "\n",
       "    .dataframe thead th {\n",
       "        text-align: right;\n",
       "    }\n",
       "</style>\n",
       "<table border=\"1\" class=\"dataframe\">\n",
       "  <thead>\n",
       "    <tr style=\"text-align: right;\">\n",
       "      <th></th>\n",
       "      <th>Unnamed: 0</th>\n",
       "      <th>manufacture</th>\n",
       "    </tr>\n",
       "  </thead>\n",
       "  <tbody>\n",
       "    <tr>\n",
       "      <th>count</th>\n",
       "      <td>5512.000000</td>\n",
       "      <td>5497.000000</td>\n",
       "    </tr>\n",
       "    <tr>\n",
       "      <th>mean</th>\n",
       "      <td>2755.500000</td>\n",
       "      <td>2015.416045</td>\n",
       "    </tr>\n",
       "    <tr>\n",
       "      <th>std</th>\n",
       "      <td>1591.321673</td>\n",
       "      <td>5.146357</td>\n",
       "    </tr>\n",
       "    <tr>\n",
       "      <th>min</th>\n",
       "      <td>0.000000</td>\n",
       "      <td>1809.000000</td>\n",
       "    </tr>\n",
       "    <tr>\n",
       "      <th>25%</th>\n",
       "      <td>1377.750000</td>\n",
       "      <td>2013.000000</td>\n",
       "    </tr>\n",
       "    <tr>\n",
       "      <th>50%</th>\n",
       "      <td>2755.500000</td>\n",
       "      <td>2016.000000</td>\n",
       "    </tr>\n",
       "    <tr>\n",
       "      <th>75%</th>\n",
       "      <td>4133.250000</td>\n",
       "      <td>2018.000000</td>\n",
       "    </tr>\n",
       "    <tr>\n",
       "      <th>max</th>\n",
       "      <td>5511.000000</td>\n",
       "      <td>2109.000000</td>\n",
       "    </tr>\n",
       "  </tbody>\n",
       "</table>\n",
       "</div>"
      ],
      "text/plain": [
       "        Unnamed: 0  manufacture\n",
       "count  5512.000000  5497.000000\n",
       "mean   2755.500000  2015.416045\n",
       "std    1591.321673     5.146357\n",
       "min       0.000000  1809.000000\n",
       "25%    1377.750000  2013.000000\n",
       "50%    2755.500000  2016.000000\n",
       "75%    4133.250000  2018.000000\n",
       "max    5511.000000  2109.000000"
      ]
     },
     "execution_count": 3,
     "metadata": {},
     "output_type": "execute_result"
    }
   ],
   "source": [
    "df.describe()"
   ]
  },
  {
   "cell_type": "code",
   "execution_count": 4,
   "id": "2898fb1e",
   "metadata": {},
   "outputs": [
    {
     "ename": "TypeError",
     "evalue": "'tuple' object is not callable",
     "output_type": "error",
     "traceback": [
      "\u001b[1;31m---------------------------------------------------------------------------\u001b[0m",
      "\u001b[1;31mTypeError\u001b[0m                                 Traceback (most recent call last)",
      "Cell \u001b[1;32mIn[4], line 1\u001b[0m\n\u001b[1;32m----> 1\u001b[0m \u001b[43mdf\u001b[49m\u001b[38;5;241;43m.\u001b[39;49m\u001b[43mshape\u001b[49m\u001b[43m(\u001b[49m\u001b[43m)\u001b[49m\n",
      "\u001b[1;31mTypeError\u001b[0m: 'tuple' object is not callable"
     ]
    }
   ],
   "source": [
    "df.shape()"
   ]
  },
  {
   "cell_type": "code",
   "execution_count": null,
   "id": "97cbfa99",
   "metadata": {},
   "outputs": [],
   "source": [
    "df.shape"
   ]
  },
  {
   "cell_type": "code",
   "execution_count": null,
   "id": "86e2c8f7",
   "metadata": {},
   "outputs": [],
   "source": [
    "df.values"
   ]
  },
  {
   "cell_type": "code",
   "execution_count": null,
   "id": "be09ab49",
   "metadata": {},
   "outputs": [],
   "source": [
    "A=df.drop(columns=['seats'])\n",
    "A"
   ]
  },
  {
   "cell_type": "code",
   "execution_count": null,
   "id": "76492757",
   "metadata": {},
   "outputs": [],
   "source": [
    "df=pd.read_csv(car_price.csv)\n",
    "a=df.drop(columns=['Seats'])\n",
    "a"
   ]
  },
  {
   "cell_type": "code",
   "execution_count": null,
   "id": "1ef4977b",
   "metadata": {},
   "outputs": [],
   "source": [
    "df=pd.read_csv('car_price.csv')\n",
    "a=df.drop(columns=['Seats'])\n",
    "a"
   ]
  },
  {
   "cell_type": "code",
   "execution_count": null,
   "id": "7c2a7d7f",
   "metadata": {},
   "outputs": [],
   "source": []
  },
  {
   "cell_type": "code",
   "execution_count": null,
   "id": "d72a291d",
   "metadata": {},
   "outputs": [],
   "source": []
  },
  {
   "cell_type": "code",
   "execution_count": null,
   "id": "91d1cff8",
   "metadata": {},
   "outputs": [],
   "source": []
  },
  {
   "cell_type": "code",
   "execution_count": null,
   "id": "b0f50c49",
   "metadata": {},
   "outputs": [],
   "source": []
  },
  {
   "cell_type": "code",
   "execution_count": null,
   "id": "fc4badea",
   "metadata": {},
   "outputs": [],
   "source": []
  },
  {
   "cell_type": "code",
   "execution_count": null,
   "id": "fc369847",
   "metadata": {},
   "outputs": [],
   "source": []
  },
  {
   "cell_type": "code",
   "execution_count": null,
   "id": "b1b29964",
   "metadata": {},
   "outputs": [],
   "source": [
    "df=df.drop(\"Unnamed: 0\",axis=1)\n",
    "df.head()"
   ]
  },
  {
   "cell_type": "code",
   "execution_count": null,
   "id": "82491f29",
   "metadata": {},
   "outputs": [],
   "source": [
    "df[df.duplicated()]"
   ]
  },
  {
   "cell_type": "code",
   "execution_count": null,
   "id": "f8aa6f37",
   "metadata": {},
   "outputs": [],
   "source": [
    "df=df.drop_duplicates()"
   ]
  },
  {
   "cell_type": "code",
   "execution_count": null,
   "id": "845ae636",
   "metadata": {},
   "outputs": [],
   "source": [
    "df"
   ]
  },
  {
   "cell_type": "code",
   "execution_count": null,
   "id": "8b5d8780",
   "metadata": {},
   "outputs": [],
   "source": [
    "df.count()"
   ]
  },
  {
   "cell_type": "code",
   "execution_count": null,
   "id": "bdf103a5",
   "metadata": {},
   "outputs": [],
   "source": [
    "df.isna().sum()"
   ]
  },
  {
   "cell_type": "code",
   "execution_count": null,
   "id": "3e4658c1",
   "metadata": {},
   "outputs": [],
   "source": [
    "df=df.dropna(subset=[\"car_name\",\"car_prices_in_rupee\"])"
   ]
  },
  {
   "cell_type": "code",
   "execution_count": null,
   "id": "0de4f002",
   "metadata": {
    "scrolled": true
   },
   "outputs": [],
   "source": [
    "df[\"fuel_type\"] = df[\"fuel_type\"].fillna(df[\"fuel_type\"].mode()[0])\n",
    "df[\"transmission\"] = df[\"transmission\"].fillna(df[\"transmission\"].mode()[0])\n",
    "df[\"ownership\"] = df[\"ownership\"].fillna(df[\"ownership\"].mode()[0])\n",
    "df[\"manufacture\"] = df[\"manufa\"\"cture\"].fillna(df[\"manufacture\"].mode()[0])\n",
    "df[\"Seats\"] = df[\"Seats\"].fillna(df[\"Seats\"].mode()[0])\n",
    "df"
   ]
  },
  {
   "cell_type": "code",
   "execution_count": null,
   "id": "65d03e15",
   "metadata": {},
   "outputs": [],
   "source": [
    "df.isna().sum()"
   ]
  },
  {
   "cell_type": "code",
   "execution_count": null,
   "id": "2d372bbd",
   "metadata": {},
   "outputs": [],
   "source": [
    "def extract_car_brand(car_name):\n",
    "    car_brand=car_name.split()[0]\n",
    "    return car_brand\n",
    "df[\"car_name\"] = df[\"car_name\"].apply(extract_car_brand)\n",
    "df.head()"
   ]
  },
  {
   "cell_type": "code",
   "execution_count": null,
   "id": "9631d70c",
   "metadata": {},
   "outputs": [],
   "source": [
    "s = \"karthick g\"\n",
    "s.split()[1]"
   ]
  },
  {
   "cell_type": "code",
   "execution_count": null,
   "id": "58d1a715",
   "metadata": {},
   "outputs": [],
   "source": [
    "df[\"car_name\"].value_counts()"
   ]
  },
  {
   "cell_type": "code",
   "execution_count": null,
   "id": "88d78f55",
   "metadata": {},
   "outputs": [],
   "source": [
    "def extract_price(car_price):\n",
    "    car_price_elements = str(car_price).split()\n",
    "    if car_price_elements[-1] == \"Lakh\":\n",
    "        return float(car_price_elements[0]) * 100_000\n",
    "    elif car_price_elements[-1] == \"Crore\":\n",
    "        return float(car_price_elements[0]) * 100_00_000\n",
    "    else:\n",
    "        return float(car_price_elements[0].replace(\",\",\"\"))\n",
    "df[\"car_prices_in_rupee\"] = df[\"car_prices_in_rupee\"].apply(extract_price)\n",
    "df.head()"
   ]
  },
  {
   "cell_type": "code",
   "execution_count": null,
   "id": "12f0d984",
   "metadata": {},
   "outputs": [],
   "source": [
    "df.head()"
   ]
  },
  {
   "cell_type": "code",
   "execution_count": null,
   "id": "1b9b9d1d",
   "metadata": {},
   "outputs": [],
   "source": [
    "def convert_km_to_numbers(kms):\n",
    "    kms_in_numbers = int(kms.split()[0].replace(\",\",''))\n",
    "    return kms_in_numbers\n",
    "df[\"kms_driven\"] = df[\"kms_driven\"].apply(lambda i: np.nan if pd.isna(i) else convert_km_to_numbers(i))\n",
    "df[\"kms_driven\"].fillna(df[\"kms_driven\"].mean())\n",
    "df.head()"
   ]
  },
  {
   "cell_type": "code",
   "execution_count": null,
   "id": "e1203833",
   "metadata": {},
   "outputs": [],
   "source": [
    "df[\"fuel_type\"].value_counts()"
   ]
  },
  {
   "cell_type": "code",
   "execution_count": null,
   "id": "2992703c",
   "metadata": {},
   "outputs": [],
   "source": [
    "col_OHE = pd.get_dummies(df[\"fuel_type\"])\n",
    "col_OHE.pop(col_OHE.columns[-1])\n",
    "df = pd.concat([df, col_OHE], axis=1)\n",
    "df = df.drop(\"fuel_type\", axis=1)\n",
    "df.head()"
   ]
  },
  {
   "cell_type": "code",
   "execution_count": null,
   "id": "8cc7843a",
   "metadata": {},
   "outputs": [],
   "source": [
    "df[\"transmission\"].value_counts()"
   ]
  },
  {
   "cell_type": "code",
   "execution_count": null,
   "id": "67ce5f2f",
   "metadata": {},
   "outputs": [],
   "source": [
    "df[\"transmission\"] = df[\"transmission\"].astype(\"category\").cat.codes\n",
    "df[\"transmission\"] = df[\"transmission\"].apply(lambda x: 1 if x==0 else 0)\n",
    "df.head()"
   ]
  },
  {
   "cell_type": "code",
   "execution_count": null,
   "id": "ced2ed02",
   "metadata": {},
   "outputs": [],
   "source": [
    "df[\"ownership\"].value_counts()"
   ]
  },
  {
   "cell_type": "code",
   "execution_count": null,
   "id": "41b6fff0",
   "metadata": {},
   "outputs": [],
   "source": [
    "def get_ownership(ownership):\n",
    "    ownership_in_int=int(ownership.split()[0][0])\n",
    "    return ownership_in_int\n",
    "df[\"ownership\"] = df[\"ownership\"].apply(get_ownership)\n",
    "df.head()"
   ]
  },
  {
   "cell_type": "code",
   "execution_count": 6,
   "id": "b3e1c3da",
   "metadata": {},
   "outputs": [
    {
     "data": {
      "text/plain": [
       "2017.0    615\n",
       "2015.0    529\n",
       "2018.0    522\n",
       "2019.0    490\n",
       "2016.0    469\n",
       "2014.0    460\n",
       "2013.0    372\n",
       "2020.0    346\n",
       "2021.0    341\n",
       "2012.0    300\n",
       "2011.0    263\n",
       "2010.0    217\n",
       "2022.0    144\n",
       "2009.0    132\n",
       "2008.0    113\n",
       "2007.0     60\n",
       "2006.0     42\n",
       "2005.0     28\n",
       "2004.0     16\n",
       "2002.0     13\n",
       "2003.0      8\n",
       "2000.0      4\n",
       "1998.0      2\n",
       "2001.0      2\n",
       "1809.0      1\n",
       "1995.0      1\n",
       "2023.0      1\n",
       "1921.0      1\n",
       "2027.0      1\n",
       "2109.0      1\n",
       "2030.0      1\n",
       "2025.0      1\n",
       "1999.0      1\n",
       "Name: manufacture, dtype: int64"
      ]
     },
     "execution_count": 6,
     "metadata": {},
     "output_type": "execute_result"
    }
   ],
   "source": [
    "df[\"manufacture\"].value_counts()"
   ]
  },
  {
   "cell_type": "code",
   "execution_count": 7,
   "id": "eacfdf68",
   "metadata": {},
   "outputs": [
    {
     "data": {
      "text/html": [
       "<div>\n",
       "<style scoped>\n",
       "    .dataframe tbody tr th:only-of-type {\n",
       "        vertical-align: middle;\n",
       "    }\n",
       "\n",
       "    .dataframe tbody tr th {\n",
       "        vertical-align: top;\n",
       "    }\n",
       "\n",
       "    .dataframe thead th {\n",
       "        text-align: right;\n",
       "    }\n",
       "</style>\n",
       "<table border=\"1\" class=\"dataframe\">\n",
       "  <thead>\n",
       "    <tr style=\"text-align: right;\">\n",
       "      <th></th>\n",
       "      <th>Unnamed: 0</th>\n",
       "      <th>car_name</th>\n",
       "      <th>car_prices_in_rupee</th>\n",
       "      <th>kms_driven</th>\n",
       "      <th>fuel_type</th>\n",
       "      <th>transmission</th>\n",
       "      <th>ownership</th>\n",
       "      <th>manufacture</th>\n",
       "      <th>engine</th>\n",
       "      <th>Seats</th>\n",
       "    </tr>\n",
       "  </thead>\n",
       "  <tbody>\n",
       "    <tr>\n",
       "      <th>0</th>\n",
       "      <td>0</td>\n",
       "      <td>Jeep Compass 2.0 Longitude Option BSIV</td>\n",
       "      <td>10.03 Lakh</td>\n",
       "      <td>86,226 kms</td>\n",
       "      <td>Diesel</td>\n",
       "      <td>Manual</td>\n",
       "      <td>1st Owner</td>\n",
       "      <td>6.0</td>\n",
       "      <td>1956 cc</td>\n",
       "      <td>5 Seats</td>\n",
       "    </tr>\n",
       "    <tr>\n",
       "      <th>1</th>\n",
       "      <td>1</td>\n",
       "      <td>Renault Duster RXZ Turbo CVT</td>\n",
       "      <td>12.83 Lakh</td>\n",
       "      <td>13,248 kms</td>\n",
       "      <td>Petrol</td>\n",
       "      <td>Automatic</td>\n",
       "      <td>1st Owner</td>\n",
       "      <td>2.0</td>\n",
       "      <td>1330 cc</td>\n",
       "      <td>5 Seats</td>\n",
       "    </tr>\n",
       "    <tr>\n",
       "      <th>2</th>\n",
       "      <td>2</td>\n",
       "      <td>Toyota Camry 2.5 G</td>\n",
       "      <td>16.40 Lakh</td>\n",
       "      <td>60,343 kms</td>\n",
       "      <td>Petrol</td>\n",
       "      <td>Automatic</td>\n",
       "      <td>1st Owner</td>\n",
       "      <td>7.0</td>\n",
       "      <td>2494 cc</td>\n",
       "      <td>5 Seats</td>\n",
       "    </tr>\n",
       "    <tr>\n",
       "      <th>3</th>\n",
       "      <td>3</td>\n",
       "      <td>Honda Jazz VX CVT</td>\n",
       "      <td>7.77 Lakh</td>\n",
       "      <td>26,696 kms</td>\n",
       "      <td>Petrol</td>\n",
       "      <td>Automatic</td>\n",
       "      <td>1st Owner</td>\n",
       "      <td>5.0</td>\n",
       "      <td>1199 cc</td>\n",
       "      <td>5 Seats</td>\n",
       "    </tr>\n",
       "    <tr>\n",
       "      <th>4</th>\n",
       "      <td>4</td>\n",
       "      <td>Volkswagen Polo 1.2 MPI Highline</td>\n",
       "      <td>5.15 Lakh</td>\n",
       "      <td>69,414 kms</td>\n",
       "      <td>Petrol</td>\n",
       "      <td>Manual</td>\n",
       "      <td>1st Owner</td>\n",
       "      <td>7.0</td>\n",
       "      <td>1199 cc</td>\n",
       "      <td>5 Seats</td>\n",
       "    </tr>\n",
       "  </tbody>\n",
       "</table>\n",
       "</div>"
      ],
      "text/plain": [
       "   Unnamed: 0                                car_name car_prices_in_rupee  \\\n",
       "0           0  Jeep Compass 2.0 Longitude Option BSIV          10.03 Lakh   \n",
       "1           1            Renault Duster RXZ Turbo CVT          12.83 Lakh   \n",
       "2           2                      Toyota Camry 2.5 G          16.40 Lakh   \n",
       "3           3                       Honda Jazz VX CVT           7.77 Lakh   \n",
       "4           4        Volkswagen Polo 1.2 MPI Highline           5.15 Lakh   \n",
       "\n",
       "   kms_driven fuel_type transmission  ownership  manufacture   engine    Seats  \n",
       "0  86,226 kms    Diesel       Manual  1st Owner          6.0  1956 cc  5 Seats  \n",
       "1  13,248 kms    Petrol    Automatic  1st Owner          2.0  1330 cc  5 Seats  \n",
       "2  60,343 kms    Petrol    Automatic  1st Owner          7.0  2494 cc  5 Seats  \n",
       "3  26,696 kms    Petrol    Automatic  1st Owner          5.0  1199 cc  5 Seats  \n",
       "4  69,414 kms    Petrol       Manual  1st Owner          7.0  1199 cc  5 Seats  "
      ]
     },
     "execution_count": 7,
     "metadata": {},
     "output_type": "execute_result"
    }
   ],
   "source": [
    "def get_age(year):\n",
    "    age=2023 - year\n",
    "    return age\n",
    "df[\"manufacture\"]=df[\"manufacture\"].apply(get_age)\n",
    "df.head()"
   ]
  },
  {
   "cell_type": "code",
   "execution_count": null,
   "id": "be0887a8",
   "metadata": {},
   "outputs": [],
   "source": [
    "def get_cc(cc):\n",
    "    "
   ]
  }
 ],
 "metadata": {
  "kernelspec": {
   "display_name": "Python 3 (ipykernel)",
   "language": "python",
   "name": "python3"
  },
  "language_info": {
   "codemirror_mode": {
    "name": "ipython",
    "version": 3
   },
   "file_extension": ".py",
   "mimetype": "text/x-python",
   "name": "python",
   "nbconvert_exporter": "python",
   "pygments_lexer": "ipython3",
   "version": "3.10.10"
  }
 },
 "nbformat": 4,
 "nbformat_minor": 5
}
